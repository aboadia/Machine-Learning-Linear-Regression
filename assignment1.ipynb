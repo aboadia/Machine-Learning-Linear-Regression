{
  "nbformat": 4,
  "nbformat_minor": 0,
  "metadata": {
    "colab": {
      "provenance": []
    },
    "kernelspec": {
      "name": "python3",
      "display_name": "Python 3"
    },
    "language_info": {
      "name": "python"
    }
  },
  "cells": [
    {
      "cell_type": "code",
      "execution_count": 1,
      "metadata": {
        "colab": {
          "base_uri": "https://localhost:8080/",
          "height": 209
        },
        "id": "jJ8jWh6iQ_tT",
        "outputId": "8dbfaf58-cee2-4ae7-bbce-77a257777345"
      },
      "outputs": [
        {
          "output_type": "display_data",
          "data": {
            "text/plain": [
              "<IPython.core.display.HTML object>"
            ],
            "text/html": [
              "\n",
              "     <input type=\"file\" id=\"files-c5118399-4999-4d89-ba46-fb7086a66ecb\" name=\"files[]\" multiple disabled\n",
              "        style=\"border:none\" />\n",
              "     <output id=\"result-c5118399-4999-4d89-ba46-fb7086a66ecb\">\n",
              "      Upload widget is only available when the cell has been executed in the\n",
              "      current browser session. Please rerun this cell to enable.\n",
              "      </output>\n",
              "      <script>// Copyright 2017 Google LLC\n",
              "//\n",
              "// Licensed under the Apache License, Version 2.0 (the \"License\");\n",
              "// you may not use this file except in compliance with the License.\n",
              "// You may obtain a copy of the License at\n",
              "//\n",
              "//      http://www.apache.org/licenses/LICENSE-2.0\n",
              "//\n",
              "// Unless required by applicable law or agreed to in writing, software\n",
              "// distributed under the License is distributed on an \"AS IS\" BASIS,\n",
              "// WITHOUT WARRANTIES OR CONDITIONS OF ANY KIND, either express or implied.\n",
              "// See the License for the specific language governing permissions and\n",
              "// limitations under the License.\n",
              "\n",
              "/**\n",
              " * @fileoverview Helpers for google.colab Python module.\n",
              " */\n",
              "(function(scope) {\n",
              "function span(text, styleAttributes = {}) {\n",
              "  const element = document.createElement('span');\n",
              "  element.textContent = text;\n",
              "  for (const key of Object.keys(styleAttributes)) {\n",
              "    element.style[key] = styleAttributes[key];\n",
              "  }\n",
              "  return element;\n",
              "}\n",
              "\n",
              "// Max number of bytes which will be uploaded at a time.\n",
              "const MAX_PAYLOAD_SIZE = 100 * 1024;\n",
              "\n",
              "function _uploadFiles(inputId, outputId) {\n",
              "  const steps = uploadFilesStep(inputId, outputId);\n",
              "  const outputElement = document.getElementById(outputId);\n",
              "  // Cache steps on the outputElement to make it available for the next call\n",
              "  // to uploadFilesContinue from Python.\n",
              "  outputElement.steps = steps;\n",
              "\n",
              "  return _uploadFilesContinue(outputId);\n",
              "}\n",
              "\n",
              "// This is roughly an async generator (not supported in the browser yet),\n",
              "// where there are multiple asynchronous steps and the Python side is going\n",
              "// to poll for completion of each step.\n",
              "// This uses a Promise to block the python side on completion of each step,\n",
              "// then passes the result of the previous step as the input to the next step.\n",
              "function _uploadFilesContinue(outputId) {\n",
              "  const outputElement = document.getElementById(outputId);\n",
              "  const steps = outputElement.steps;\n",
              "\n",
              "  const next = steps.next(outputElement.lastPromiseValue);\n",
              "  return Promise.resolve(next.value.promise).then((value) => {\n",
              "    // Cache the last promise value to make it available to the next\n",
              "    // step of the generator.\n",
              "    outputElement.lastPromiseValue = value;\n",
              "    return next.value.response;\n",
              "  });\n",
              "}\n",
              "\n",
              "/**\n",
              " * Generator function which is called between each async step of the upload\n",
              " * process.\n",
              " * @param {string} inputId Element ID of the input file picker element.\n",
              " * @param {string} outputId Element ID of the output display.\n",
              " * @return {!Iterable<!Object>} Iterable of next steps.\n",
              " */\n",
              "function* uploadFilesStep(inputId, outputId) {\n",
              "  const inputElement = document.getElementById(inputId);\n",
              "  inputElement.disabled = false;\n",
              "\n",
              "  const outputElement = document.getElementById(outputId);\n",
              "  outputElement.innerHTML = '';\n",
              "\n",
              "  const pickedPromise = new Promise((resolve) => {\n",
              "    inputElement.addEventListener('change', (e) => {\n",
              "      resolve(e.target.files);\n",
              "    });\n",
              "  });\n",
              "\n",
              "  const cancel = document.createElement('button');\n",
              "  inputElement.parentElement.appendChild(cancel);\n",
              "  cancel.textContent = 'Cancel upload';\n",
              "  const cancelPromise = new Promise((resolve) => {\n",
              "    cancel.onclick = () => {\n",
              "      resolve(null);\n",
              "    };\n",
              "  });\n",
              "\n",
              "  // Wait for the user to pick the files.\n",
              "  const files = yield {\n",
              "    promise: Promise.race([pickedPromise, cancelPromise]),\n",
              "    response: {\n",
              "      action: 'starting',\n",
              "    }\n",
              "  };\n",
              "\n",
              "  cancel.remove();\n",
              "\n",
              "  // Disable the input element since further picks are not allowed.\n",
              "  inputElement.disabled = true;\n",
              "\n",
              "  if (!files) {\n",
              "    return {\n",
              "      response: {\n",
              "        action: 'complete',\n",
              "      }\n",
              "    };\n",
              "  }\n",
              "\n",
              "  for (const file of files) {\n",
              "    const li = document.createElement('li');\n",
              "    li.append(span(file.name, {fontWeight: 'bold'}));\n",
              "    li.append(span(\n",
              "        `(${file.type || 'n/a'}) - ${file.size} bytes, ` +\n",
              "        `last modified: ${\n",
              "            file.lastModifiedDate ? file.lastModifiedDate.toLocaleDateString() :\n",
              "                                    'n/a'} - `));\n",
              "    const percent = span('0% done');\n",
              "    li.appendChild(percent);\n",
              "\n",
              "    outputElement.appendChild(li);\n",
              "\n",
              "    const fileDataPromise = new Promise((resolve) => {\n",
              "      const reader = new FileReader();\n",
              "      reader.onload = (e) => {\n",
              "        resolve(e.target.result);\n",
              "      };\n",
              "      reader.readAsArrayBuffer(file);\n",
              "    });\n",
              "    // Wait for the data to be ready.\n",
              "    let fileData = yield {\n",
              "      promise: fileDataPromise,\n",
              "      response: {\n",
              "        action: 'continue',\n",
              "      }\n",
              "    };\n",
              "\n",
              "    // Use a chunked sending to avoid message size limits. See b/62115660.\n",
              "    let position = 0;\n",
              "    do {\n",
              "      const length = Math.min(fileData.byteLength - position, MAX_PAYLOAD_SIZE);\n",
              "      const chunk = new Uint8Array(fileData, position, length);\n",
              "      position += length;\n",
              "\n",
              "      const base64 = btoa(String.fromCharCode.apply(null, chunk));\n",
              "      yield {\n",
              "        response: {\n",
              "          action: 'append',\n",
              "          file: file.name,\n",
              "          data: base64,\n",
              "        },\n",
              "      };\n",
              "\n",
              "      let percentDone = fileData.byteLength === 0 ?\n",
              "          100 :\n",
              "          Math.round((position / fileData.byteLength) * 100);\n",
              "      percent.textContent = `${percentDone}% done`;\n",
              "\n",
              "    } while (position < fileData.byteLength);\n",
              "  }\n",
              "\n",
              "  // All done.\n",
              "  yield {\n",
              "    response: {\n",
              "      action: 'complete',\n",
              "    }\n",
              "  };\n",
              "}\n",
              "\n",
              "scope.google = scope.google || {};\n",
              "scope.google.colab = scope.google.colab || {};\n",
              "scope.google.colab._files = {\n",
              "  _uploadFiles,\n",
              "  _uploadFilesContinue,\n",
              "};\n",
              "})(self);\n",
              "</script> "
            ]
          },
          "metadata": {}
        },
        {
          "output_type": "stream",
          "name": "stdout",
          "text": [
            "Saving QUESTION2_data.xlsx to QUESTION2_data.xlsx\n",
            "Saving x_test.npy to x_test.npy\n",
            "Saving x_train.npy to x_train.npy\n",
            "Saving y_test.npy to y_test.npy\n",
            "Saving y_train.npy to y_train.npy\n"
          ]
        }
      ],
      "source": [
        "\n",
        "import numpy as np\n",
        "import pandas as pd\n",
        "import matplotlib.pyplot as plt\n",
        "from google.colab import drive \n",
        "from google.colab import files\n",
        "uploaded = files.upload()"
      ]
    },
    {
      "cell_type": "code",
      "source": [
        "# Loading in the training dataset\n",
        "cola=np.load('x_train.npy')\n",
        "colB=np.load('y_train.npy')\n",
        "colA = np.array(cola)\n",
        "colA=colA.tolist()\n",
        "colA= [item for sublist in colA for item in sublist]\n",
        "\n",
        "#Loading of the test dataset\n",
        "colI=np.load('x_test.npy')\n",
        "colII=np.load('y_test.npy')\n",
        "colI = np.array(colI)\n",
        "colI=colI.tolist()\n",
        "colI= [item for sublist in colI for item in sublist]\n",
        "\n",
        "# Visualization of test data\n",
        "plt.scatter(colI,colII)\n",
        "plt.title('A Scatter plot of X_test against Y_test')\n",
        "plt.show()\n",
        "\n",
        "# The test set indicates a non-linear relationship between the x-test and y-test variables. \n",
        "\n",
        "# visualization of  training data\n",
        "plt.scatter(colA,colB)\n",
        "plt.title('A Scatter plot of X_train against Y_train')\n",
        "plt.show()"
      ],
      "metadata": {
        "colab": {
          "base_uri": "https://localhost:8080/",
          "height": 545
        },
        "id": "VcbRl-TjRUPh",
        "outputId": "fed0bda6-16ca-43b1-aea7-e17e1c4d2983"
      },
      "execution_count": 2,
      "outputs": [
        {
          "output_type": "display_data",
          "data": {
            "text/plain": [
              "<Figure size 432x288 with 1 Axes>"
            ],
            "image/png": "[encoded data removed]"
          },
          "metadata": {
            "needs_background": "light"
          }
        },
        {
          "output_type": "display_data",
          "data": {
            "text/plain": [
              "<Figure size 432x288 with 1 Axes>"
            ],
            "image/png": "[encoded data removed]"
          },
          "metadata": {
            "needs_background": "light"
          }
        }
      ]
    },
    {
      "cell_type": "code",
      "source": [
        "# FUNCTIONS USED IN ACCESSING ACCURACY OF MODELS DEVELOPED.\n",
        "# calculating the accuracy of my models\n",
        "def r2score(y_pred, y):\n",
        "    rss = np.sum((y_pred - y) ** 2)\n",
        "    tss = np.sum((y-y.mean()) ** 2)\n",
        "    \n",
        "    r2 = 1 - (rss / tss)\n",
        "    return r2\n",
        "\n",
        "# calculating the mean square error  of my models\n",
        "def mse(y_pred, y,n):\n",
        "    a= np.sum((y - y_pred) ** 2)\n",
        "    b= (1/n)*a   \n",
        "    return b\n",
        "\n"
      ],
      "metadata": {
        "id": "foLJOTlxRo6u"
      },
      "execution_count": 3,
      "outputs": []
    },
    {
      "cell_type": "markdown",
      "source": [
        "\n",
        "The training set indicates a non-linear relationship as well between the x-train and y-train variables. Both training and test dataset show a non-linear relationship between variables. \n",
        "I engeneer the features to add non-linearity by taking the 2nd, 3rd, 4th and so on orders of x-train variable (independent variable.)\\\n",
        "In trying to find the non-linear relationship between the variables I tried the 2nd order, 3rd order, 4th order, and 5th order basis functions.\n",
        "I decided not to try other higher polynomials because I wanted to avoid overfitting.\\\n",
        "The next batch of code finds the 2nd order polynomial function. \n"
      ],
      "metadata": {
        "id": "8YLPJh5qS_10"
      }
    },
    {
      "cell_type": "code",
      "source": [
        "\n",
        "# 2nd order polynomial function \n",
        "array= np.array([colA,colB])\n",
        "data=pd.DataFrame(array).T\n",
        "\n",
        "# feature engineering the x variable.\n",
        "data['x_2'] = data[0]**2\n",
        "\n",
        "# separating the target variable from the features.\n",
        "y= data[1]\n",
        "X= data[[0,'x_2']]\n",
        "\n",
        "# normalizing the dataset so it converges faster\n",
        "m = len(X)\n",
        "X = X/X.max()\n",
        "\n",
        "# defining the hypothesis function\n",
        "def hypothesis(X, theta):\n",
        "    y1 = theta*X\n",
        "    return np.sum(y1, axis=1)\n",
        "\n",
        "# defining the cost function\n",
        "def cost(X, y, theta):\n",
        "    y1 = hypothesis(X, theta)\n",
        "    return sum(np.sqrt((y1-y)**2))/(2*m)\n",
        "\n",
        "\n",
        "# writing the function for gradient descent\n",
        "def gradientDescent(X, y, theta, alpha, epoch):\n",
        "    J=[]\n",
        "    k=0\n",
        "    while k < epoch:\n",
        "        y1 = hypothesis(X, theta)\n",
        "        for c in range(0, len(X.columns)):\n",
        "            theta[c] = theta[c] - alpha*sum((y1-y)* X.iloc[:, c])/m\n",
        "        j = cost(X, y, theta)\n",
        "        J.append(j)\n",
        "        k += 1\n",
        "    return J, theta\n",
        "    print(theta)\n",
        "    print(J)\n",
        "\n",
        "\n",
        "# initalizing the data alpha= 0.05, 700 epochs\n",
        "theta = np.array([0.0]*len(X.columns))\n",
        "J, theta = gradientDescent(X, y, theta, 0.05, 700)\n",
        "\n",
        "# printing out the theta for the function \n",
        "print(theta)\n",
        "\n",
        "#y_hat is the predicted y values\n",
        "y_hat = hypothesis(X, theta)\n",
        "\n",
        "# plotting \n",
        "#%matplotlib inline\n",
        "import matplotlib.pyplot as plt\n",
        "plt.figure()\n",
        "plt.scatter(x=X[0],y= y)           \n",
        "plt.scatter(x=X[0], y=y_hat)\n",
        "plt.title('2nd order polynomial on training data')\n",
        "plt.show()\n",
        "\n",
        "# testing the efficiency of 2nd order function\n",
        "print('This is the accuracy of the model:',r2score(y_hat,y))\n",
        "print('This is the mean square error of the model:',mse(y_hat, y,len(y)))\n",
        "\n"
      ],
      "metadata": {
        "colab": {
          "base_uri": "https://localhost:8080/",
          "height": 332
        },
        "id": "eRyW5DSoTjtA",
        "outputId": "4872c7db-60ad-4bc8-ec2f-e3abcdcfbee9"
      },
      "execution_count": 9,
      "outputs": [
        {
          "output_type": "stream",
          "name": "stdout",
          "text": [
            "[9.07806123 9.72547842]\n"
          ]
        },
        {
          "output_type": "display_data",
          "data": {
            "text/plain": [
              "<Figure size 432x288 with 1 Axes>"
            ],
            "image/png": "[encoded data removed]"
          },
          "metadata": {
            "needs_background": "light"
          }
        },
        {
          "output_type": "stream",
          "name": "stdout",
          "text": [
            "This is the accuracy of the model: 0.06860086351933248\n",
            "This is the mean square error of the model: 187.57995023162204\n"
          ]
        }
      ]
    },
    {
      "cell_type": "markdown",
      "source": [
        "The 2nd order basis function as presented by the graph does not capture the non-linearity between the variables, so I decided to try a higher order of 3. \n",
        "The accuracy of this model is very low 6.8% and has a high mean square error of 187.57\n"
      ],
      "metadata": {
        "id": "640AJLVcUdm3"
      }
    },
    {
      "cell_type": "code",
      "source": [
        "# 3rd order basis function \n",
        "# feature engineering the x variable.\n",
        "data['x_3'] = data[0]**3\n",
        "X= data[[0,'x_2','x_3']]\n",
        "\n",
        "# normalizing the dataset so it converges faster\n",
        "m = len(X)\n",
        "X = X/X.max()\n",
        "\n",
        "# defining the hypothesis function\n",
        "def hypothesis(X, theta):\n",
        "    y1 = theta*X\n",
        "    return np.sum(y1, axis=1)\n",
        "\n",
        "# defining the cost function\n",
        "def cost(X, y, theta):\n",
        "    y1 = hypothesis(X, theta)\n",
        "    return sum(np.sqrt((y1-y)**2))/(2*m)\n",
        "\n",
        "\n",
        "# writing the function for gradient descent\n",
        "def gradientDescent(X, y, theta, alpha, epoch):\n",
        "    J=[]\n",
        "    k=0\n",
        "    while k < epoch:\n",
        "        y1 = hypothesis(X, theta)\n",
        "        for c in range(0, len(X.columns)):\n",
        "            theta[c] = theta[c] - alpha*sum((y1-y)* X.iloc[:, c])/m\n",
        "        j = cost(X, y, theta)\n",
        "        J.append(j)\n",
        "        k += 1\n",
        "    return J, theta\n",
        "    print(theta)\n",
        "    print(J)\n",
        "\n",
        "\n",
        "# initalizing the data alpha= 0.05, 700 epochs\n",
        "theta = np.array([0.0]*len(X.columns))\n",
        "J, theta = gradientDescent(X, y, theta, 0.05, 700)\n",
        "\n",
        "# printing out the theta for the function \n",
        "print(theta)\n",
        "\n",
        "\n",
        "#y_hat is the predicted y values\n",
        "y_hat = hypothesis(X, theta)\n",
        "\n",
        "# plotting \n",
        "#%matplotlib inline\n",
        "import matplotlib.pyplot as plt\n",
        "plt.figure()\n",
        "plt.scatter(x=X[0],y= y)           \n",
        "plt.scatter(x=X[0], y=y_hat)\n",
        "plt.title('3rd order polynomial on training data')\n",
        "plt.show()\n",
        "\n",
        "# testing the efficiency of 3rd order function\n",
        "print('This is the accuracy of the model:',r2score(y_hat,y))\n",
        "print('This is the mean square error of the model:',mse(y_hat, y,len(y)))\n",
        "\n"
      ],
      "metadata": {
        "colab": {
          "base_uri": "https://localhost:8080/",
          "height": 332
        },
        "id": "9PRkC_1WU0k-",
        "outputId": "45ce3126-fda5-42fd-bf9e-a6fc3c4291cd"
      },
      "execution_count": 10,
      "outputs": [
        {
          "output_type": "stream",
          "name": "stdout",
          "text": [
            "[-10.41489164   9.38207002  32.60883485]\n"
          ]
        },
        {
          "output_type": "display_data",
          "data": {
            "text/plain": [
              "<Figure size 432x288 with 1 Axes>"
            ],
            "image/png": "[encoded data removed]"
          },
          "metadata": {
            "needs_background": "light"
          }
        },
        {
          "output_type": "stream",
          "name": "stdout",
          "text": [
            "This is the accuracy of the model: 0.4635602517502371\n",
            "This is the mean square error of the model: 108.03675603476684\n"
          ]
        }
      ]
    },
    {
      "cell_type": "markdown",
      "source": [
        "This cubic function fits the training set better than the 2nd order polynomial function. \n",
        "The cubic function model performed better than the 2nd order function model with an accuracy of 46% and mean squared error of 108.03. The model performed better and had a smaller error which is good.\n",
        "I decided to still find out how it fits using the 4th order function.\n",
        "\n"
      ],
      "metadata": {
        "id": "kTbbAuaBVDxm"
      }
    },
    {
      "cell_type": "code",
      "source": [
        "# 4th order basis function \n",
        "# feature engineering the x variable.\n",
        "data['x_4'] = data[0]**4\n",
        "X= data[[0,'x_2','x_3','x_4']]\n",
        "\n",
        "# normalizing the dataset so it converges faster\n",
        "m = len(X)\n",
        "X = X/X.max()\n",
        "\n",
        "# defining the hypothesis function\n",
        "def hypothesis(X, theta):\n",
        "    y1 = theta*X\n",
        "    return np.sum(y1, axis=1)\n",
        "\n",
        "# defining the cost function\n",
        "def cost(X, y, theta):\n",
        "    y1 = hypothesis(X, theta)\n",
        "    return sum(np.sqrt((y1-y)**2))/(2*m)\n",
        "\n",
        "\n",
        "# writing the function for gradient descent\n",
        "def gradientDescent(X, y, theta, alpha, epoch):\n",
        "    J=[]\n",
        "    k=0\n",
        "    while k < epoch:\n",
        "        y1 = hypothesis(X, theta)\n",
        "        for c in range(0, len(X.columns)):\n",
        "            theta[c] = theta[c] - alpha*sum((y1-y)* X.iloc[:, c])/m\n",
        "        j = cost(X, y, theta)\n",
        "        J.append(j)\n",
        "        k += 1\n",
        "    return J, theta\n",
        "    print(theta)\n",
        "    print(J)\n",
        "\n",
        "\n",
        "# initalizing the data alpha= 0.05, 700 epochs\n",
        "theta = np.array([0.0]*len(X.columns))\n",
        "J, theta = gradientDescent(X, y, theta, 0.05, 700)\n",
        "\n",
        "# printing out the theta for the function \n",
        "print(theta)\n",
        " \n",
        "\n",
        "#y_hat is the predicted y values\n",
        "y_hat = hypothesis(X, theta)\n",
        "\n",
        "# plotting \n",
        "#%matplotlib inline\n",
        "import matplotlib.pyplot as plt\n",
        "plt.figure()\n",
        "plt.scatter(x=X[0],y= y)           \n",
        "plt.scatter(x=X[0], y=y_hat)\n",
        "plt.title('4th order polynomial on training data')\n",
        "plt.show()\n",
        "\n",
        "# testing the efficiency of 4th order function\n",
        "print('This is the accuracy of the model:',r2score(y_hat,y))\n",
        "print('This is the mean square error of the model:',mse(y_hat, y,len(y)))\n"
      ],
      "metadata": {
        "colab": {
          "base_uri": "https://localhost:8080/",
          "height": 332
        },
        "id": "n4QRtZcOVqQl",
        "outputId": "455c2625-04de-400a-c321-b2a7e9bf727f"
      },
      "execution_count": 11,
      "outputs": [
        {
          "output_type": "stream",
          "name": "stdout",
          "text": [
            "[-10.43422889  10.2875198   32.63668183  -1.91948701]\n"
          ]
        },
        {
          "output_type": "display_data",
          "data": {
            "text/plain": [
              "<Figure size 432x288 with 1 Axes>"
            ],
            "image/png": "[encoded data removed]"
          },
          "metadata": {
            "needs_background": "light"
          }
        },
        {
          "output_type": "stream",
          "name": "stdout",
          "text": [
            "This is the accuracy of the model: 0.46801445770720274\n",
            "This is the mean square error of the model: 107.13969729914675\n"
          ]
        }
      ]
    },
    {
      "cell_type": "markdown",
      "source": [
        "the graph from the 4th order function looked very similar to the function from 3rd order and not surprisingly,produced similar accuracy and mean squred error (46% and 107 respectively). Just to have a clear understanding I produced to find the 5th order function and check how it fitted the model. I used the lines of code below. "
      ],
      "metadata": {
        "id": "kRVz6aBlV1iY"
      }
    },
    {
      "cell_type": "code",
      "source": [
        "# 5th order basis function \n",
        "# feature engineering the x variable.\n",
        "data['x_5'] = data[0]**5\n",
        "X= data[[0,'x_2','x_3','x_4','x_5']]\n",
        "\n",
        "# normalizing the dataset so it converges faster\n",
        "m = len(X)\n",
        "X = X/X.max()\n",
        "\n",
        "# defining the hypothesis function\n",
        "def hypothesis(X, theta):\n",
        "    y1 = theta*X\n",
        "    return np.sum(y1, axis=1)\n",
        "\n",
        "# defining the cost function\n",
        "def cost(X, y, theta):\n",
        "    y1 = hypothesis(X, theta)\n",
        "    return sum(np.sqrt((y1-y)**2))/(2*m)\n",
        "\n",
        "\n",
        "# writing the function for gradient descent\n",
        "def gradientDescent(X, y, theta, alpha, epoch):\n",
        "    J=[]\n",
        "    k=0\n",
        "    while k < epoch:\n",
        "        y1 = hypothesis(X, theta)\n",
        "        for c in range(0, len(X.columns)):\n",
        "            theta[c] = theta[c] - alpha*sum((y1-y)* X.iloc[:, c])/m\n",
        "        j = cost(X, y, theta)\n",
        "        J.append(j)\n",
        "        k += 1\n",
        "    return J, theta\n",
        "    print(theta)\n",
        "    print(J)\n",
        "\n",
        "\n",
        "# initalizing the data alpha= 0.05, 700 epochs\n",
        "theta = np.array([0.0]*len(X.columns))\n",
        "J, theta = gradientDescent(X, y, theta, 0.05, 700)\n",
        "\n",
        "# printing out the theta for the function \n",
        "print(theta)\n",
        " \n",
        "\n",
        "#y_hat is the predicted y values\n",
        "y_hat = hypothesis(X, theta)\n",
        "\n",
        "# plotting \n",
        "#%matplotlib inline\n",
        "import matplotlib.pyplot as plt\n",
        "plt.figure()\n",
        "plt.scatter(x=X[0],y= y)           \n",
        "plt.scatter(x=X[0], y=y_hat)\n",
        "plt.title('5rd order polynomial on training data')\n",
        "plt.show()\n",
        "\n",
        "# testing the efficiency of 4th order function\n",
        "print('This is the accuracy of the model:',r2score(y_hat,y))\n",
        "print('This is the mean square error of the model:',mse(y_hat, y,len(y)))\n"
      ],
      "metadata": {
        "colab": {
          "base_uri": "https://localhost:8080/",
          "height": 332
        },
        "id": "IdAn19_zWQAV",
        "outputId": "5ebf9c2b-e9b8-4437-e7d2-8e903758bf59"
      },
      "execution_count": 12,
      "outputs": [
        {
          "output_type": "stream",
          "name": "stdout",
          "text": [
            "[-15.05542281   9.8397218   15.5216997   -1.50091632  31.43597523]\n"
          ]
        },
        {
          "output_type": "display_data",
          "data": {
            "text/plain": [
              "<Figure size 432x288 with 1 Axes>"
            ],
            "image/png": "[encoded data removed]"
          },
          "metadata": {
            "needs_background": "light"
          }
        },
        {
          "output_type": "stream",
          "name": "stdout",
          "text": [
            "This is the accuracy of the model: 0.6548340241073873\n",
            "This is the mean square error of the model: 69.51500602011717\n"
          ]
        }
      ]
    },
    {
      "cell_type": "markdown",
      "source": [
        "The 5th order polynomial fitted the dataset the most but decided not to try higher functions because I did not want my model to overfit the training dataset.\n",
        "The accuracy of the 5th order polynomial was very good (69.5% compared to the other 3 models)\\\n",
        "The mean squared error also reduced to 69.515 compared to other models which had higher average least square errors. \n"
      ],
      "metadata": {
        "id": "Pw-P3m5WWduq"
      }
    },
    {
      "cell_type": "markdown",
      "source": [
        "QUESTION 2A"
      ],
      "metadata": {
        "id": "OULPJnzwW2hb"
      }
    },
    {
      "cell_type": "code",
      "source": [
        "dt = pd.read_excel(\"QUESTION2_data.xlsx\")\n",
        "# I excluded the house ID as it is not a feature. \n",
        "y= dt.iloc[:,-1].values\n",
        "x= dt.iloc[:,:-1].values\n",
        "\n",
        "# normalize the data set\n",
        "m = len(x)\n",
        "x = x/x.max()\n",
        "\n",
        "# separating the dataset to training and testing set\n",
        "training_data = dt.sample(frac=0.7, random_state=25)\n",
        "testing_data = dt.drop(training_data.index)\n",
        "\n",
        "Xtrain= training_data.iloc[:,:-1].values\n",
        "Ytrain= training_data.iloc[:,-1].values\n",
        "Xtest=  testing_data.iloc[:,:-1].values\n",
        "Ytest=  testing_data.iloc[:,-1].values\n",
        "\n",
        "\n",
        "# creating the cost and gradient function\n",
        "def CostFunction(x,y,w,b):\n",
        "    cost = np.sum((((x.dot(w) + b) - y) ** 2) / (2*len(y)))\n",
        "    return cost\n",
        "\n",
        "def GradientDescent(x, y, w, b, learning_rate, epochs):\n",
        "    cost_list = [0] * epochs\n",
        "   \n",
        "    for epoch in range(epochs):\n",
        "        z = x.dot(w) + b\n",
        "        loss = z - y\n",
        "        \n",
        "        weight_gradient = x.T.dot(loss) / len(y)\n",
        "        bias_gradient = np.sum(loss) / len(y)\n",
        "        \n",
        "        w = w - learning_rate*weight_gradient\n",
        "        b = b - learning_rate*bias_gradient\n",
        "  \n",
        "        cost = CostFunction(x, y, w, b)\n",
        "        cost_list[epoch] = cost\n",
        "        \n",
        "        if (epoch%(epochs/10)==0):\n",
        "            print(\"Cost is:\",cost)\n",
        "        \n",
        "    return w, b, cost_list\n",
        "\n",
        "\n",
        "# calculating weights, bias and cost\n",
        "\n",
        "w, b, c= GradientDescent(Xtrain, Ytrain, np.zeros(Xtrain.shape[1]), 0, 0.0002,epochs=1000)\n",
        "\n",
        "# predicting labels with the calculated weights and biases\n",
        "def predict(X, w, b):\n",
        "    return X.dot(w) + b\n",
        "y_pred = predict(Xtest, w, b)\n",
        "\n",
        "\n",
        "# calculating the r-square or accuracy of the model \n",
        "def r2score(y_pred, y):\n",
        "    rss = np.sum((y_pred - y) ** 2)\n",
        "    tss = np.sum((y-y.mean()) ** 2)\n",
        "    \n",
        "    r2 = 1 - (rss / tss)\n",
        "    return r2\n",
        "print('This is the accuracy of the model:',r2score(y_pred, Ytest))\n",
        "\n",
        "# calculating the mean square error\n",
        "def mse1(actual, predicted):\n",
        "    actual = np.array(actual)\n",
        "    predicted = np.array(predicted)\n",
        "    differences = np.subtract(actual, predicted)\n",
        "    squared_differences = np.square(differences)\n",
        "    return squared_differences.mean()\n",
        "\n",
        "print('This is the mean square error of my model:',(mse1(Ytest, y_pred)))\n",
        "\n"
      ],
      "metadata": {
        "colab": {
          "base_uri": "https://localhost:8080/"
        },
        "id": "wenx2tN7W5ij",
        "outputId": "72744edc-ebba-47cf-85c8-2718271c1d25"
      },
      "execution_count": 14,
      "outputs": [
        {
          "output_type": "stream",
          "name": "stdout",
          "text": [
            "Cost is: 438.53330544435175\n",
            "Cost is: 49.12342665341514\n",
            "Cost is: 19.389737377276486\n",
            "Cost is: 13.798150524916704\n",
            "Cost is: 12.665955887119988\n",
            "Cost is: 12.36287252996666\n",
            "Cost is: 12.2188464571465\n",
            "Cost is: 12.109764628821537\n",
            "Cost is: 12.012240786666268\n",
            "Cost is: 11.921510346636492\n",
            "This is the accuracy of the model: 0.8653763842540774\n",
            "This is the mean square error of my model: 38.91186231448101\n"
          ]
        }
      ]
    },
    {
      "cell_type": "markdown",
      "source": [
        "The model performs well with an accuracy of 86% and a low average least square error of 38.911 \\\n",
        "The average least squares error is 38.911\n",
        "\n",
        "\n",
        "\n"
      ],
      "metadata": {
        "id": "4UTEy7W1X4Yc"
      }
    },
    {
      "cell_type": "markdown",
      "source": [
        "QUESTION 2B"
      ],
      "metadata": {
        "id": "JaV7Y6LPYQzX"
      }
    },
    {
      "cell_type": "code",
      "source": [
        "# checking out which variable had the most effect on the final value\n",
        "features= training_data.columns\n",
        "res = dict(zip(features,w))\n",
        "\n",
        "fin_max = max(res, key=res.get)\n",
        "print(\"The feature with maximum weight:\",fin_max)\n",
        "print('Maximum weight',np.max(w))\n"
      ],
      "metadata": {
        "colab": {
          "base_uri": "https://localhost:8080/"
        },
        "id": "C0T-9Wj-YUPN",
        "outputId": "6ff55f6f-93be-4dce-990d-69e632e384c9"
      },
      "execution_count": 16,
      "outputs": [
        {
          "output_type": "stream",
          "name": "stdout",
          "text": [
            "The feature with maximum weight: local_price\n",
            "Maximum weight 2.183058421139697\n"
          ]
        }
      ]
    },
    {
      "cell_type": "markdown",
      "source": [
        "The results indicates that local_price has the most effect on price, because it has the highest weight or impact on the target value.\\\n",
        "Yes,I can use only local price as the target variable becuase it has the most impact.\\\n",
        "I am able to determine this by finding the biggest weight or coeffcient from the weights obtained from my model.\n"
      ],
      "metadata": {
        "id": "ufvEiGW4YdcZ"
      }
    },
    {
      "cell_type": "code",
      "source": [
        "# checking out which variable had the least effect on the final value. \n",
        "fin_min = min(res, key=res.get)\n",
        "print(\"The feature with minimum weight:\",fin_min)\n",
        "print('minimum weight',np.min(w))\n",
        "\n"
      ],
      "metadata": {
        "colab": {
          "base_uri": "https://localhost:8080/"
        },
        "id": "mnkyZO-tY5HN",
        "outputId": "08c69f74-a543-4708-cdae-dcdb08b7252c"
      },
      "execution_count": 18,
      "outputs": [
        {
          "output_type": "stream",
          "name": "stdout",
          "text": [
            "The feature with minimum weight: age_of_home \n",
            "minimum weight -0.06436878415372455\n"
          ]
        }
      ]
    },
    {
      "cell_type": "markdown",
      "source": [
        "The results indicates that age of home has the least effect on price.\\\n",
        "I am able to determine this my finding the least weight or coeffcient, or the weight closet to zero. \n"
      ],
      "metadata": {
        "id": "FKLbT8aYY-3_"
      }
    },
    {
      "cell_type": "markdown",
      "source": [
        "QUESTION 2 (3C)"
      ],
      "metadata": {
        "id": "SnoPfioGZYlw"
      }
    },
    {
      "cell_type": "code",
      "source": [
        "dt=dt.loc[:, dt.columns!='age_of home']\n",
        "y= dt.iloc[:,-1].values\n",
        "x= dt.iloc[:,:-1].values\n",
        "\n",
        "# normalize the data set\n",
        "m = len(x)\n",
        "x = x/x.max()\n",
        "\n",
        "# separating the dataset to training and testing set\n",
        "training_data = dt.sample(frac=0.7, random_state=25)\n",
        "testing_data = dt.drop(training_data.index)\n",
        "\n",
        "Xtrain= training_data.iloc[:,:-1].values\n",
        "Ytrain= training_data.iloc[:,-1].values\n",
        "Xtest=  testing_data.iloc[:,:-1].values\n",
        "Ytest=  testing_data.iloc[:,-1].values\n",
        "\n",
        "# creating the cost and gradient function\n",
        "def CostFunction(x,y,w,b):\n",
        "    cost = np.sum((((x.dot(w) + b) - y) ** 2) / (2*len(y)))\n",
        "    return cost\n",
        "\n",
        "def GradientDescent(x, y, w, b, learning_rate, epochs):\n",
        "    cost_list = [0] * epochs\n",
        "   \n",
        "    for epoch in range(epochs):\n",
        "        z = x.dot(w) + b\n",
        "        loss = z - y\n",
        "        \n",
        "        weight_gradient = x.T.dot(loss) / len(y)\n",
        "        bias_gradient = np.sum(loss) / len(y)\n",
        "        \n",
        "        w = w - learning_rate*weight_gradient\n",
        "        b = b - learning_rate*bias_gradient\n",
        "  \n",
        "        cost = CostFunction(x, y, w, b)\n",
        "        cost_list[epoch] = cost\n",
        "        \n",
        "        if (epoch%(epochs/10)==0):\n",
        "            print(\"Cost is:\",cost)\n",
        "        \n",
        "    return w, b, cost_list\n",
        "\n",
        "\n",
        "\n",
        "# calculating weights and bias\n",
        "\n",
        "w, b, c= GradientDescent(Xtrain, Ytrain, np.zeros(Xtrain.shape[1]), 0, 0.0002,epochs=15000)\n",
        "\n",
        "\n",
        "# predicting labels with the calculated weights and biases\n",
        "def predict(X, w, b):\n",
        "    return X.dot(w) + b\n",
        "y_pred = predict(Xtest, w, b)\n",
        "\n",
        "print('This is the accuracy of the model:',r2score(y_pred, Ytest))\n",
        "print('This is the mean square error of my model:',(mse1(Ytest, y_pred)))\n",
        "\n",
        "\n"
      ],
      "metadata": {
        "colab": {
          "base_uri": "https://localhost:8080/"
        },
        "id": "BT14SCSpZ1dz",
        "outputId": "b2206dc2-45ec-4344-b4c4-dd28eb75e2fe"
      },
      "execution_count": 20,
      "outputs": [
        {
          "output_type": "stream",
          "name": "stdout",
          "text": [
            "Cost is: 438.53330544435175\n",
            "Cost is: 11.475448594225252\n",
            "Cost is: 10.769139903119019\n",
            "Cost is: 10.306840659773375\n",
            "Cost is: 9.946776898266133\n",
            "Cost is: 9.647357012255945\n",
            "Cost is: 9.391799684351598\n",
            "Cost is: 9.170600855223604\n",
            "Cost is: 8.977128350546588\n",
            "Cost is: 8.806315815763051\n",
            "This is the accuracy of the model: 0.8888306709090368\n",
            "This is the mean square error of my model: 32.132591322944045\n"
          ]
        }
      ]
    },
    {
      "cell_type": "markdown",
      "source": [
        "The model performs better with accuracy of 88.88% and a mean square error of 32.13%. The initial model had an accuracy of 86.53% and mean square error of 38.91."
      ],
      "metadata": {
        "id": "lQcGtKxCaWz9"
      }
    },
    {
      "cell_type": "markdown",
      "source": [
        "QUESTION 3"
      ],
      "metadata": {
        "id": "xYmccJzIaxVM"
      }
    },
    {
      "cell_type": "code",
      "source": [
        "# Defining the functions to used. \n",
        "# Gaussian kernel\n",
        "def kernel(point, xmat, k):\n",
        "    m,n = np.shape(xmat)\n",
        "    weights = np.mat(np.eye((m)))\n",
        "    \n",
        "    for j in range(m):\n",
        "        diff = point - X[j]\n",
        "        weights[j, j] = np.exp(diff * diff.T / (-2.0 * k**2))\n",
        "    \n",
        "    return weights\n",
        "\n",
        "def localWeight(point, xmat, ymat, k):\n",
        "    wt = kernel(point, xmat, k)\n",
        "    W = (X.T * (wt*X)).I * (X.T * wt * ymat.T) #local weight\n",
        "    return W\n",
        "\n",
        "def localWeightRegression(xmat, ymat, k):\n",
        "    # xmat is the input variable\n",
        "    # ymat is the column b (ie the y variable)\n",
        "    #k is the bandwith\n",
        "    m,n = np.shape(xmat) # dimensions of the input function\n",
        "    ypred = np.zeros(m)\n",
        "    \n",
        "    for i in range(m): #for i from o to m (m is the row of the input variable)\n",
        "        ypred[i] = xmat[i] * localWeight(xmat[i], xmat, ymat, k)\n",
        "        \n",
        "    return ypred\n",
        "\n",
        "#data \n",
        "#processing the data to be used for processing\n",
        "cola=np.load('x_train.npy')\n",
        "colb=np.load('y_train.npy')\n",
        "\n",
        "colA = np.array(cola)\n",
        "colA=colA.tolist()\n",
        "colAi= [item for sublist in colA for item in sublist]\n",
        "colA= np.array(colAi)\n",
        "colB = np.array(colb)\n",
        "\n",
        "# converting data to numpy matrices\n",
        "mcolA = np.mat(colA)\n",
        "mcolB = np.mat(colB) # this is the y variable\n",
        "\n",
        "# reshaping of the matrix\n",
        "m = np.shape(mcolB)[1]\n",
        "\n",
        "# inialize column of ones\n",
        "one = np.ones((1, m), dtype = int)\n",
        "\n",
        "# horizontal stacking\n",
        "X = np.hstack((one.T, mcolA.T)) # this gives the inout variable x\n",
        "print(X.shape)\n",
        "\n",
        "\n",
        "# final code to be run! \n",
        "ypred = localWeightRegression(X, mcolB, 0.5) # 0.5 is the bandwith represented as k. \n",
        "\n",
        "#HOW TO PLOT\n",
        "xsort = X.copy()\n",
        "xsort.sort(axis=0)\n",
        "plt.scatter(colA, colB, color='blue')\n",
        "plt.plot(xsort[:, 1], ypred[X[:, 1].argsort(0)], color='yellow', linewidth=5)\n",
        "plt.xlabel('X')\n",
        "plt.ylabel('Y')\n",
        "plt.title('Locally-weighted approach')\n",
        "plt.show()\n",
        "\n"
      ],
      "metadata": {
        "colab": {
          "base_uri": "https://localhost:8080/",
          "height": 312
        },
        "id": "RAw4LU1Fazid",
        "outputId": "9b3777e9-1566-4b3f-c923-4277adae8e13"
      },
      "execution_count": 21,
      "outputs": [
        {
          "output_type": "stream",
          "name": "stdout",
          "text": [
            "(100, 2)\n"
          ]
        },
        {
          "output_type": "display_data",
          "data": {
            "text/plain": [
              "<Figure size 432x288 with 1 Axes>"
            ],
            "image/png": "[encoded data removed]"
          },
          "metadata": {
            "needs_background": "light"
          }
        }
      ]
    },
    {
      "cell_type": "markdown",
      "source": [
        "There is no need for basis functions when using a locally weighted approach.\\\n",
        "**Locally weighted linear regression** is a non-parametric algorithm, \n",
        "that is, the model does not learn a fixed set of parameters as is done in ordinary linear regression.\\\n",
        "Rather parametersor weigths are computed individually for each query point(x).\n",
        "While computing the weights, a higher “preference” is given to the points in the training set lying in the vicinity of the query point\n",
        "than the points lying far away from x.\\\n",
        "For **polynomial basis functions**:\\\n",
        "This approach engineers the features and very sentitive to outliers. The polynomial basis function learns a fixed set of parameters.\n",
        "The presence of one or two outliers in the data can seriously affect the results of nonlinear analysis.\n",
        "In addition, there are unfortunately fewer model validation tools for the detection of outliers in nonlinear regression than there are for linear regression. \n",
        "\n"
      ],
      "metadata": {
        "id": "FwJSMDufbAC7"
      }
    }
  ]
}